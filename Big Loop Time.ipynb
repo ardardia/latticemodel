{
 "cells": [
  {
   "cell_type": "code",
   "execution_count": 43,
   "metadata": {},
   "outputs": [],
   "source": [
    "import numpy as np\n",
    "import scipy.optimize as opt\n",
    "import pylab as plt\n",
    "import matplotlib.cm as cm\n",
    "import matplotlib.pyplot as plt\n",
    "import math"
   ]
  },
  {
   "cell_type": "code",
   "execution_count": 60,
   "metadata": {},
   "outputs": [],
   "source": [
    "kB = 0.695 #boltzmans constant in wavenumber units per kelvin (cm^-1/K)\n",
    "T = 300 #K. Completely random. Can change to whatever\n",
    "k=0.025 #time step. Can change as desired\n",
    "runs=500\n",
    "output_runs=np.full((runs,1),0.000)\n",
    "for x in range (0,runs):\n",
    "    latticeE=np.random.normal(11000, 500, size=(4, 4)) #random lattice\n",
    "    latticeE = np.rint(latticeE) #rounding to nearest integer for simplicity\n",
    "    W2=np.full((16,16),0.000)#initializing to zero\n",
    "    P1=np.full((len(W2),1),0.0625) #initial distribution\n",
    "    \n",
    "    #Setting up W2 matrix\n",
    "    lengthInner=len(latticeE[0])\n",
    "    lengthOuter=len(latticeE)\n",
    "    rowCounter = 0\n",
    "    for i in range (0,len(latticeE)): #This loop is defining the nearest neighbors\n",
    "        for j in range (0,len(latticeE)):\n",
    "            if (j==0 or j==lengthInner-1):\n",
    "                neighborWrap = j + ((lengthInner-1) * (1 if j==0 else -1))\n",
    "                neighborNonWrap = j + (1 if j==0 else -1)\n",
    "                neighborLeft = neighborWrap if (j==0) else neighborNonWrap\n",
    "                neighborRight = neighborNonWrap if (j==0) else neighborWrap\n",
    "            else:\n",
    "                neighborLeft = j - 1\n",
    "                neighborRight = j + 1\n",
    "            if (i==0 or i==lengthOuter-1):\n",
    "                neighborWrap = i + ((lengthOuter-1) * (1 if i==0 else -1))\n",
    "                neighborNonWrap = i + (1 if i==0 else -1)\n",
    "                neighborUp = neighborWrap if (i==0) else neighborNonWrap\n",
    "                neighborDown = neighborNonWrap if (i==0) else neighborWrap\n",
    "            else:\n",
    "                neighborUp = i - 1\n",
    "                neighborDown = i + 1\n",
    "            iLeft = (i * len(latticeE)) + neighborLeft\n",
    "            iRight = (i * len(latticeE)) + neighborRight\n",
    "            iUp = (neighborUp * len(latticeE)) + j\n",
    "            iDown = (neighborDown * len(latticeE)) + j #After this we enter the probabilities depending on neighbors to W2\n",
    "            W2[iLeft][rowCounter] = math.exp(-(latticeE[i][neighborLeft]-latticeE[i][j])/(kB*T)) if (latticeE[i][neighborLeft] > latticeE[i][j]) else 1\n",
    "            W2[iRight][rowCounter] = math.exp(-(latticeE[i][neighborRight]-latticeE[i][j])/(kB*T)) if (latticeE[i][neighborRight] > latticeE[i][j]) else 1\n",
    "            W2[iUp][rowCounter] = math.exp(-(latticeE[neighborUp][j]-latticeE[i][j])/(kB*T)) if (latticeE[neighborUp][j] > latticeE[i][j]) else 1\n",
    "            W2[iDown][rowCounter] = math.exp(-(latticeE[neighborDown][j]-latticeE[i][j])/(kB*T)) if (latticeE[neighborDown][j] > latticeE[i][j]) else 1\n",
    "            rowCounter += 1\n",
    "    \n",
    "    W2=k*W2 #adding in factor of k \n",
    "    for i in range (0, len(W2)): #diagonal elements once the transitions are calculated and scaled by k\n",
    "        for j in range(0, len(W2)):\n",
    "            if (i == j):\n",
    "                W2[i][j] = 1-np.sum(W2, axis=0)[i] \n",
    "    \n",
    "    #Boltz \n",
    "    Boltz=np.full((len(W2),1),0.000) #initializing boltzman dist as zero, then \n",
    "    LatticeList= latticeE.ravel()\n",
    "    Plist=np.full((len(W2),1),0.000) #empty list for boltzman, will divide by partition function for Boltz\n",
    "    for i in range (0,len(LatticeList)):\n",
    "        p_i = math.exp(-(LatticeList[i])/(kB*T))\n",
    "        Plist[i]=p_i\n",
    "\n",
    "    for i in range (0,len(LatticeList)):\n",
    "        Q= np.sum(Plist, axis=0) #partition function\n",
    "\n",
    "    for i in range (0,len(LatticeList)):\n",
    "        Boltz[i]= Plist[i]/Q  \n",
    "    #we have P1, we apply W2 (the matrix) to get P2 and so on. Do that until Pn = Boltz \n",
    "    arr = P1\n",
    "    boundLimit = 0.001 #how close each element of Pn must be to Boltz values \n",
    "    notWithinBounds = True\n",
    "    ctr = 0\n",
    "    while notWithinBounds:\n",
    "        arrInBounds = True\n",
    "        for i in range (0, len(arr)):\n",
    "            if (abs(arr[i]-Boltz[i]) > boundLimit):\n",
    "                arrInBounds = False\n",
    "                break\n",
    "        if not(arrInBounds):\n",
    "            arr = W2 @ arr\n",
    "            ctr = ctr + 1\n",
    "        else:\n",
    "            notWithinBounds = False\n",
    "        output_runs[x]=ctr\n",
    "    \n",
    "\n",
    "\n",
    "    \n"
   ]
  },
  {
   "cell_type": "code",
   "execution_count": null,
   "metadata": {},
   "outputs": [],
   "source": []
  },
  {
   "cell_type": "code",
   "execution_count": 61,
   "metadata": {},
   "outputs": [
    {
     "name": "stdout",
     "output_type": "stream",
     "text": [
      "[4291.696]\n",
      "12388.721960379287\n"
     ]
    }
   ],
   "source": [
    "for i in range(0,runs):\n",
    "    Tot= np.sum(output_runs, axis=0)\n",
    "avg_runs=Tot/runs\n",
    "print(avg_runs)\n",
    "\n",
    "std_dev=np.std(output_runs)\n",
    "print(std_dev)"
   ]
  },
  {
   "cell_type": "code",
   "execution_count": 76,
   "metadata": {},
   "outputs": [
    {
     "data": {
      "image/png": "[encoded data removed]",
      "text/plain": [
       "<Figure size 720x576 with 1 Axes>"
      ]
     },
     "metadata": {
      "needs_background": "light"
     },
     "output_type": "display_data"
    }
   ],
   "source": [
    "#graphing avgs,std devs versus ratio of disorder to mean energy\n",
    "disorder1=np.array([100,150,200,250,300,350,400,450,500])\n",
    "disorder=disorder1/11000\n",
    "avgs=np.array([132.82,217.97,364.99,552.76,857.61,1259.86,1970.56,2779.63,4291.70])\n",
    "stds=([44.65,99.02,211.18,422.72,740.78,1185.66,2418.98,5872.99,12388.72])\n",
    "fig, ax = plt.subplots(figsize = (10,8))\n",
    "ax.errorbar(disorder, avgs,stds, capsize = 3)\n",
    "ax.set_xlabel(\"Disorder (as fraction of mean energy)\")\n",
    "ax.set_ylabel(\"Average number of runs\")\n",
    "plt.show()"
   ]
  },
  {
   "cell_type": "code",
   "execution_count": null,
   "metadata": {},
   "outputs": [],
   "source": []
  }
 ],
 "metadata": {
  "kernelspec": {
   "display_name": "Python 3",
   "language": "python",
   "name": "python3"
  },
  "language_info": {
   "codemirror_mode": {
    "name": "ipython",
    "version": 3
   },
   "file_extension": ".py",
   "mimetype": "text/x-python",
   "name": "python",
   "nbconvert_exporter": "python",
   "pygments_lexer": "ipython3",
   "version": "3.8.3"
  }
 },
 "nbformat": 4,
 "nbformat_minor": 4
}
